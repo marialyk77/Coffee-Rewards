{
 "cells": [
  {
   "cell_type": "code",
   "execution_count": 1,
   "id": "7601387a",
   "metadata": {},
   "outputs": [],
   "source": [
    "import pandas as pd\n",
    "import ast  # To safely convert string to dictionary\n",
    "\n",
    "\n",
    "df = pd.read_csv(r\"C:\\Users\\Mar\\Documents\\Data Analytics\\AProjects 2024\\Coffe Rewards\\Cafe+Rewards+Offers\\events.csv\")\n"
   ]
  },
  {
   "cell_type": "code",
   "execution_count": 2,
   "id": "a583ea0d",
   "metadata": {},
   "outputs": [
    {
     "data": {
      "text/html": [
       "<div>\n",
       "<style scoped>\n",
       "    .dataframe tbody tr th:only-of-type {\n",
       "        vertical-align: middle;\n",
       "    }\n",
       "\n",
       "    .dataframe tbody tr th {\n",
       "        vertical-align: top;\n",
       "    }\n",
       "\n",
       "    .dataframe thead th {\n",
       "        text-align: right;\n",
       "    }\n",
       "</style>\n",
       "<table border=\"1\" class=\"dataframe\">\n",
       "  <thead>\n",
       "    <tr style=\"text-align: right;\">\n",
       "      <th></th>\n",
       "      <th>customer_id</th>\n",
       "      <th>event</th>\n",
       "      <th>value</th>\n",
       "      <th>time</th>\n",
       "    </tr>\n",
       "  </thead>\n",
       "  <tbody>\n",
       "    <tr>\n",
       "      <th>0</th>\n",
       "      <td>78afa995795e4d85b5d9ceeca43f5fef</td>\n",
       "      <td>offer received</td>\n",
       "      <td>{'offer id': '9b98b8c7a33c4b65b9aebfe6a799e6d9'}</td>\n",
       "      <td>0</td>\n",
       "    </tr>\n",
       "    <tr>\n",
       "      <th>1</th>\n",
       "      <td>a03223e636434f42ac4c3df47e8bac43</td>\n",
       "      <td>offer received</td>\n",
       "      <td>{'offer id': '0b1e1539f2cc45b7b9fa7c272da2e1d7'}</td>\n",
       "      <td>0</td>\n",
       "    </tr>\n",
       "    <tr>\n",
       "      <th>2</th>\n",
       "      <td>e2127556f4f64592b11af22de27a7932</td>\n",
       "      <td>offer received</td>\n",
       "      <td>{'offer id': '2906b810c7d4411798c6938adc9daaa5'}</td>\n",
       "      <td>0</td>\n",
       "    </tr>\n",
       "    <tr>\n",
       "      <th>3</th>\n",
       "      <td>8ec6ce2a7e7949b1bf142def7d0e0586</td>\n",
       "      <td>offer received</td>\n",
       "      <td>{'offer id': 'fafdcd668e3743c1bb461111dcafc2a4'}</td>\n",
       "      <td>0</td>\n",
       "    </tr>\n",
       "    <tr>\n",
       "      <th>4</th>\n",
       "      <td>68617ca6246f4fbc85e91a2a49552598</td>\n",
       "      <td>offer received</td>\n",
       "      <td>{'offer id': '4d5c57ea9a6940dd891ad53e9dbe8da0'}</td>\n",
       "      <td>0</td>\n",
       "    </tr>\n",
       "    <tr>\n",
       "      <th>...</th>\n",
       "      <td>...</td>\n",
       "      <td>...</td>\n",
       "      <td>...</td>\n",
       "      <td>...</td>\n",
       "    </tr>\n",
       "    <tr>\n",
       "      <th>306529</th>\n",
       "      <td>b3a1272bc9904337b331bf348c3e8c17</td>\n",
       "      <td>transaction</td>\n",
       "      <td>{'amount': 1.5899999999999999}</td>\n",
       "      <td>714</td>\n",
       "    </tr>\n",
       "    <tr>\n",
       "      <th>306530</th>\n",
       "      <td>68213b08d99a4ae1b0dcb72aebd9aa35</td>\n",
       "      <td>transaction</td>\n",
       "      <td>{'amount': 9.53}</td>\n",
       "      <td>714</td>\n",
       "    </tr>\n",
       "    <tr>\n",
       "      <th>306531</th>\n",
       "      <td>a00058cf10334a308c68e7631c529907</td>\n",
       "      <td>transaction</td>\n",
       "      <td>{'amount': 3.61}</td>\n",
       "      <td>714</td>\n",
       "    </tr>\n",
       "    <tr>\n",
       "      <th>306532</th>\n",
       "      <td>76ddbd6576844afe811f1a3c0fbb5bec</td>\n",
       "      <td>transaction</td>\n",
       "      <td>{'amount': 3.5300000000000002}</td>\n",
       "      <td>714</td>\n",
       "    </tr>\n",
       "    <tr>\n",
       "      <th>306533</th>\n",
       "      <td>c02b10e8752c4d8e9b73f918558531f7</td>\n",
       "      <td>transaction</td>\n",
       "      <td>{'amount': 4.05}</td>\n",
       "      <td>714</td>\n",
       "    </tr>\n",
       "  </tbody>\n",
       "</table>\n",
       "<p>306534 rows × 4 columns</p>\n",
       "</div>"
      ],
      "text/plain": [
       "                             customer_id           event  \\\n",
       "0       78afa995795e4d85b5d9ceeca43f5fef  offer received   \n",
       "1       a03223e636434f42ac4c3df47e8bac43  offer received   \n",
       "2       e2127556f4f64592b11af22de27a7932  offer received   \n",
       "3       8ec6ce2a7e7949b1bf142def7d0e0586  offer received   \n",
       "4       68617ca6246f4fbc85e91a2a49552598  offer received   \n",
       "...                                  ...             ...   \n",
       "306529  b3a1272bc9904337b331bf348c3e8c17     transaction   \n",
       "306530  68213b08d99a4ae1b0dcb72aebd9aa35     transaction   \n",
       "306531  a00058cf10334a308c68e7631c529907     transaction   \n",
       "306532  76ddbd6576844afe811f1a3c0fbb5bec     transaction   \n",
       "306533  c02b10e8752c4d8e9b73f918558531f7     transaction   \n",
       "\n",
       "                                                   value  time  \n",
       "0       {'offer id': '9b98b8c7a33c4b65b9aebfe6a799e6d9'}     0  \n",
       "1       {'offer id': '0b1e1539f2cc45b7b9fa7c272da2e1d7'}     0  \n",
       "2       {'offer id': '2906b810c7d4411798c6938adc9daaa5'}     0  \n",
       "3       {'offer id': 'fafdcd668e3743c1bb461111dcafc2a4'}     0  \n",
       "4       {'offer id': '4d5c57ea9a6940dd891ad53e9dbe8da0'}     0  \n",
       "...                                                  ...   ...  \n",
       "306529                    {'amount': 1.5899999999999999}   714  \n",
       "306530                                  {'amount': 9.53}   714  \n",
       "306531                                  {'amount': 3.61}   714  \n",
       "306532                    {'amount': 3.5300000000000002}   714  \n",
       "306533                                  {'amount': 4.05}   714  \n",
       "\n",
       "[306534 rows x 4 columns]"
      ]
     },
     "execution_count": 2,
     "metadata": {},
     "output_type": "execute_result"
    }
   ],
   "source": [
    "df"
   ]
  },
  {
   "cell_type": "code",
   "execution_count": 3,
   "id": "4a76d3dc",
   "metadata": {},
   "outputs": [],
   "source": [
    "# Con. JSON-like string to dictionary\n",
    "df['value_dict'] = df['value'].apply(lambda x: ast.literal_eval(x) if isinstance(x, str) else {})\n"
   ]
  },
  {
   "cell_type": "code",
   "execution_count": 20,
   "id": "3ac2f5bf",
   "metadata": {},
   "outputs": [],
   "source": [
    "# Ext 'transaction_amount' for transactions\n",
    "df['transaction_amount'] = df.apply(lambda x: x['value_dict'].get('amount', None) if x['event'] == 'transaction' else None, axis=1)\n",
    "\n",
    "## this created errors "
   ]
  },
  {
   "cell_type": "code",
   "execution_count": 22,
   "id": "4152180c",
   "metadata": {},
   "outputs": [
    {
     "data": {
      "text/plain": [
       "0          NaN\n",
       "1          NaN\n",
       "2          NaN\n",
       "3          NaN\n",
       "4          NaN\n",
       "          ... \n",
       "306529    1.59\n",
       "306530    9.53\n",
       "306531    3.61\n",
       "306532    3.53\n",
       "306533    4.05\n",
       "Name: transaction_amount, Length: 306534, dtype: float64"
      ]
     },
     "execution_count": 22,
     "metadata": {},
     "output_type": "execute_result"
    }
   ],
   "source": [
    "df['transaction_amount']"
   ]
  },
  {
   "cell_type": "code",
   "execution_count": 9,
   "id": "fb64025b",
   "metadata": {},
   "outputs": [],
   "source": [
    "# Ext 'offer_id' for offer-related events\n",
    "\n",
    "###offer_events = ['offer received', 'offer viewed', 'offer completed']\n",
    "####df['clean_offer_id'] = df.apply(lambda x: x['value_dict'].get('offer id', None) if x['event'] in offer_events else None, axis=1)\n",
    "\n",
    "### This code was wrong , because in the end i ended up NONE offer_id for COMPLETED ORDERS!!!!!!!!!!"
   ]
  },
  {
   "cell_type": "code",
   "execution_count": 10,
   "id": "60a0c525",
   "metadata": {
    "scrolled": true
   },
   "outputs": [
    {
     "data": {
      "text/html": [
       "<div>\n",
       "<style scoped>\n",
       "    .dataframe tbody tr th:only-of-type {\n",
       "        vertical-align: middle;\n",
       "    }\n",
       "\n",
       "    .dataframe tbody tr th {\n",
       "        vertical-align: top;\n",
       "    }\n",
       "\n",
       "    .dataframe thead th {\n",
       "        text-align: right;\n",
       "    }\n",
       "</style>\n",
       "<table border=\"1\" class=\"dataframe\">\n",
       "  <thead>\n",
       "    <tr style=\"text-align: right;\">\n",
       "      <th></th>\n",
       "      <th>value_dict</th>\n",
       "      <th>clean_offer_id</th>\n",
       "    </tr>\n",
       "  </thead>\n",
       "  <tbody>\n",
       "    <tr>\n",
       "      <th>12658</th>\n",
       "      <td>{'offer_id': '2906b810c7d4411798c6938adc9daaa5...</td>\n",
       "      <td>None</td>\n",
       "    </tr>\n",
       "    <tr>\n",
       "      <th>12672</th>\n",
       "      <td>{'offer_id': 'fafdcd668e3743c1bb461111dcafc2a4...</td>\n",
       "      <td>None</td>\n",
       "    </tr>\n",
       "    <tr>\n",
       "      <th>12679</th>\n",
       "      <td>{'offer_id': '9b98b8c7a33c4b65b9aebfe6a799e6d9...</td>\n",
       "      <td>None</td>\n",
       "    </tr>\n",
       "    <tr>\n",
       "      <th>12692</th>\n",
       "      <td>{'offer_id': 'ae264e3637204a6fb9bb56bc8210ddfd...</td>\n",
       "      <td>None</td>\n",
       "    </tr>\n",
       "    <tr>\n",
       "      <th>12697</th>\n",
       "      <td>{'offer_id': '4d5c57ea9a6940dd891ad53e9dbe8da0...</td>\n",
       "      <td>None</td>\n",
       "    </tr>\n",
       "    <tr>\n",
       "      <th>...</th>\n",
       "      <td>...</td>\n",
       "      <td>...</td>\n",
       "    </tr>\n",
       "    <tr>\n",
       "      <th>306475</th>\n",
       "      <td>{'offer_id': '2298d6c36e964ae4a3e7e9706d1fb8c2...</td>\n",
       "      <td>None</td>\n",
       "    </tr>\n",
       "    <tr>\n",
       "      <th>306497</th>\n",
       "      <td>{'offer_id': '2298d6c36e964ae4a3e7e9706d1fb8c2...</td>\n",
       "      <td>None</td>\n",
       "    </tr>\n",
       "    <tr>\n",
       "      <th>306506</th>\n",
       "      <td>{'offer_id': 'fafdcd668e3743c1bb461111dcafc2a4...</td>\n",
       "      <td>None</td>\n",
       "    </tr>\n",
       "    <tr>\n",
       "      <th>306509</th>\n",
       "      <td>{'offer_id': 'fafdcd668e3743c1bb461111dcafc2a4...</td>\n",
       "      <td>None</td>\n",
       "    </tr>\n",
       "    <tr>\n",
       "      <th>306527</th>\n",
       "      <td>{'offer_id': 'fafdcd668e3743c1bb461111dcafc2a4...</td>\n",
       "      <td>None</td>\n",
       "    </tr>\n",
       "  </tbody>\n",
       "</table>\n",
       "<p>33579 rows × 2 columns</p>\n",
       "</div>"
      ],
      "text/plain": [
       "                                               value_dict clean_offer_id\n",
       "12658   {'offer_id': '2906b810c7d4411798c6938adc9daaa5...           None\n",
       "12672   {'offer_id': 'fafdcd668e3743c1bb461111dcafc2a4...           None\n",
       "12679   {'offer_id': '9b98b8c7a33c4b65b9aebfe6a799e6d9...           None\n",
       "12692   {'offer_id': 'ae264e3637204a6fb9bb56bc8210ddfd...           None\n",
       "12697   {'offer_id': '4d5c57ea9a6940dd891ad53e9dbe8da0...           None\n",
       "...                                                   ...            ...\n",
       "306475  {'offer_id': '2298d6c36e964ae4a3e7e9706d1fb8c2...           None\n",
       "306497  {'offer_id': '2298d6c36e964ae4a3e7e9706d1fb8c2...           None\n",
       "306506  {'offer_id': 'fafdcd668e3743c1bb461111dcafc2a4...           None\n",
       "306509  {'offer_id': 'fafdcd668e3743c1bb461111dcafc2a4...           None\n",
       "306527  {'offer_id': 'fafdcd668e3743c1bb461111dcafc2a4...           None\n",
       "\n",
       "[33579 rows x 2 columns]"
      ]
     },
     "execution_count": 10,
     "metadata": {},
     "output_type": "execute_result"
    }
   ],
   "source": [
    "### df[df['event'] == 'offer completed'][['value_dict', 'clean_offer_id']]\n"
   ]
  },
  {
   "cell_type": "code",
   "execution_count": 11,
   "id": "1b94982b",
   "metadata": {},
   "outputs": [
    {
     "name": "stdout",
     "output_type": "stream",
     "text": [
      "dict_keys(['offer id'])\n"
     ]
    }
   ],
   "source": [
    "### print(df['value_dict'].iloc[0].keys())  # Checking actual key names\n"
   ]
  },
  {
   "cell_type": "code",
   "execution_count": 12,
   "id": "5a63618c",
   "metadata": {},
   "outputs": [
    {
     "name": "stdout",
     "output_type": "stream",
     "text": [
      "['offer received' 'offer viewed' 'transaction' 'offer completed']\n"
     ]
    }
   ],
   "source": [
    "##Trying to troubleshoot , maybe are spelling mistakes  ex. 'Offer Received' vs. 'offer received'\n",
    "\n",
    "print(df['event'].unique())  # See actual event names\n"
   ]
  },
  {
   "cell_type": "code",
   "execution_count": 13,
   "id": "5bb79c1f",
   "metadata": {},
   "outputs": [
    {
     "data": {
      "text/html": [
       "<div>\n",
       "<style scoped>\n",
       "    .dataframe tbody tr th:only-of-type {\n",
       "        vertical-align: middle;\n",
       "    }\n",
       "\n",
       "    .dataframe tbody tr th {\n",
       "        vertical-align: top;\n",
       "    }\n",
       "\n",
       "    .dataframe thead th {\n",
       "        text-align: right;\n",
       "    }\n",
       "</style>\n",
       "<table border=\"1\" class=\"dataframe\">\n",
       "  <thead>\n",
       "    <tr style=\"text-align: right;\">\n",
       "      <th></th>\n",
       "      <th>customer_id</th>\n",
       "      <th>event</th>\n",
       "      <th>value</th>\n",
       "      <th>time</th>\n",
       "      <th>value_dict</th>\n",
       "      <th>transaction_amount</th>\n",
       "      <th>clean_offer_id</th>\n",
       "    </tr>\n",
       "  </thead>\n",
       "  <tbody>\n",
       "  </tbody>\n",
       "</table>\n",
       "</div>"
      ],
      "text/plain": [
       "Empty DataFrame\n",
       "Columns: [customer_id, event, value, time, value_dict, transaction_amount, clean_offer_id]\n",
       "Index: []"
      ]
     },
     "execution_count": 13,
     "metadata": {},
     "output_type": "execute_result"
    }
   ],
   "source": [
    "### df[df['value_dict'] == {}]  # looking  if there are empty  dictionaries \n"
   ]
  },
  {
   "cell_type": "code",
   "execution_count": 14,
   "id": "e437cb7f",
   "metadata": {},
   "outputs": [
    {
     "name": "stdout",
     "output_type": "stream",
     "text": [
      "0    {'offer id': '9b98b8c7a33c4b65b9aebfe6a799e6d9'}\n",
      "1    {'offer id': '0b1e1539f2cc45b7b9fa7c272da2e1d7'}\n",
      "2    {'offer id': '2906b810c7d4411798c6938adc9daaa5'}\n",
      "3    {'offer id': 'fafdcd668e3743c1bb461111dcafc2a4'}\n",
      "4    {'offer id': '4d5c57ea9a6940dd891ad53e9dbe8da0'}\n",
      "5    {'offer id': 'f19421c1d4aa40978ebb69ca19b0e20d'}\n",
      "6    {'offer id': '2298d6c36e964ae4a3e7e9706d1fb8c2'}\n",
      "7    {'offer id': '3f207df678b143eea3cee63160fa8bed'}\n",
      "8    {'offer id': '0b1e1539f2cc45b7b9fa7c272da2e1d7'}\n",
      "9    {'offer id': '0b1e1539f2cc45b7b9fa7c272da2e1d7'}\n",
      "Name: value_dict, dtype: object\n"
     ]
    }
   ],
   "source": [
    "### print(df['value_dict'].head(10))  \n"
   ]
  },
  {
   "cell_type": "code",
   "execution_count": 15,
   "id": "92e84244",
   "metadata": {},
   "outputs": [
    {
     "name": "stdout",
     "output_type": "stream",
     "text": [
      "{'offer id': '9b98b8c7a33c4b65b9aebfe6a799e6d9'}\n",
      "9b98b8c7a33c4b65b9aebfe6a799e6d9\n"
     ]
    }
   ],
   "source": [
    "### row = df.iloc[0]  # Change index if needed\n",
    "## print(row['value_dict'])  # i want to check dictionary structure\n",
    "### print(row['value_dict'].get('offer id', 'Not Found'))  # Extract offer_id manually\n"
   ]
  },
  {
   "cell_type": "code",
   "execution_count": null,
   "id": "3dababe6",
   "metadata": {},
   "outputs": [],
   "source": [
    "## ## The value_dict is structured correctly and contains data.\n",
    "## The extraction should work.\n",
    "\n",
    "## So Why is clean_offer_id Still None?\n"
   ]
  },
  {
   "cell_type": "code",
   "execution_count": 20,
   "id": "548574a5",
   "metadata": {},
   "outputs": [
    {
     "data": {
      "text/plain": [
       "event\n",
       "offer completed    [['offer_id', 'reward']]\n",
       "offer received               [['offer id']]\n",
       "offer viewed                 [['offer id']]\n",
       "transaction                    [['amount']]\n",
       "Name: value_structure, dtype: object"
      ]
     },
     "execution_count": 20,
     "metadata": {},
     "output_type": "execute_result"
    }
   ],
   "source": [
    "# I want to check what kind of data is stored in value_dict\n",
    "\n",
    "## df['value_structure'] = df['value_dict'].apply(lambda d: str(sorted(d.keys())))\n",
    "## df.groupby('event')['value_structure'].unique()\n",
    "\n",
    "\n"
   ]
  },
  {
   "cell_type": "code",
   "execution_count": 21,
   "id": "f3933c08",
   "metadata": {},
   "outputs": [
    {
     "data": {
      "text/plain": [
       "33579"
      ]
     },
     "execution_count": 21,
     "metadata": {},
     "output_type": "execute_result"
    }
   ],
   "source": [
    "### i want to check rows with 'reward'\n",
    "\n",
    "## df[df['event'] == 'offer completed'].apply(lambda x: 'reward' in x['value_dict'], axis=1).sum()\n"
   ]
  },
  {
   "cell_type": "code",
   "execution_count": 22,
   "id": "bd03ac6b",
   "metadata": {},
   "outputs": [
    {
     "data": {
      "text/html": [
       "<div>\n",
       "<style scoped>\n",
       "    .dataframe tbody tr th:only-of-type {\n",
       "        vertical-align: middle;\n",
       "    }\n",
       "\n",
       "    .dataframe tbody tr th {\n",
       "        vertical-align: top;\n",
       "    }\n",
       "\n",
       "    .dataframe thead th {\n",
       "        text-align: right;\n",
       "    }\n",
       "</style>\n",
       "<table border=\"1\" class=\"dataframe\">\n",
       "  <thead>\n",
       "    <tr style=\"text-align: right;\">\n",
       "      <th></th>\n",
       "      <th>customer_id</th>\n",
       "      <th>event</th>\n",
       "      <th>value</th>\n",
       "      <th>time</th>\n",
       "      <th>value_dict</th>\n",
       "      <th>transaction_amount</th>\n",
       "      <th>clean_offer_id</th>\n",
       "      <th>value_structure</th>\n",
       "    </tr>\n",
       "  </thead>\n",
       "  <tbody>\n",
       "    <tr>\n",
       "      <th>12658</th>\n",
       "      <td>9fa9ae8f57894cc9a3b8a9bbe0fc1b2f</td>\n",
       "      <td>offer completed</td>\n",
       "      <td>{'offer_id': '2906b810c7d4411798c6938adc9daaa5...</td>\n",
       "      <td>0</td>\n",
       "      <td>{'offer_id': '2906b810c7d4411798c6938adc9daaa5...</td>\n",
       "      <td>NaN</td>\n",
       "      <td>None</td>\n",
       "      <td>['offer_id', 'reward']</td>\n",
       "    </tr>\n",
       "    <tr>\n",
       "      <th>12672</th>\n",
       "      <td>fe97aa22dd3e48c8b143116a8403dd52</td>\n",
       "      <td>offer completed</td>\n",
       "      <td>{'offer_id': 'fafdcd668e3743c1bb461111dcafc2a4...</td>\n",
       "      <td>0</td>\n",
       "      <td>{'offer_id': 'fafdcd668e3743c1bb461111dcafc2a4...</td>\n",
       "      <td>NaN</td>\n",
       "      <td>None</td>\n",
       "      <td>['offer_id', 'reward']</td>\n",
       "    </tr>\n",
       "    <tr>\n",
       "      <th>12679</th>\n",
       "      <td>629fc02d56414d91bca360decdfa9288</td>\n",
       "      <td>offer completed</td>\n",
       "      <td>{'offer_id': '9b98b8c7a33c4b65b9aebfe6a799e6d9...</td>\n",
       "      <td>0</td>\n",
       "      <td>{'offer_id': '9b98b8c7a33c4b65b9aebfe6a799e6d9...</td>\n",
       "      <td>NaN</td>\n",
       "      <td>None</td>\n",
       "      <td>['offer_id', 'reward']</td>\n",
       "    </tr>\n",
       "    <tr>\n",
       "      <th>12692</th>\n",
       "      <td>676506bad68e4161b9bbaffeb039626b</td>\n",
       "      <td>offer completed</td>\n",
       "      <td>{'offer_id': 'ae264e3637204a6fb9bb56bc8210ddfd...</td>\n",
       "      <td>0</td>\n",
       "      <td>{'offer_id': 'ae264e3637204a6fb9bb56bc8210ddfd...</td>\n",
       "      <td>NaN</td>\n",
       "      <td>None</td>\n",
       "      <td>['offer_id', 'reward']</td>\n",
       "    </tr>\n",
       "    <tr>\n",
       "      <th>12697</th>\n",
       "      <td>8f7dd3b2afe14c078eb4f6e6fe4ba97d</td>\n",
       "      <td>offer completed</td>\n",
       "      <td>{'offer_id': '4d5c57ea9a6940dd891ad53e9dbe8da0...</td>\n",
       "      <td>0</td>\n",
       "      <td>{'offer_id': '4d5c57ea9a6940dd891ad53e9dbe8da0...</td>\n",
       "      <td>NaN</td>\n",
       "      <td>None</td>\n",
       "      <td>['offer_id', 'reward']</td>\n",
       "    </tr>\n",
       "    <tr>\n",
       "      <th>...</th>\n",
       "      <td>...</td>\n",
       "      <td>...</td>\n",
       "      <td>...</td>\n",
       "      <td>...</td>\n",
       "      <td>...</td>\n",
       "      <td>...</td>\n",
       "      <td>...</td>\n",
       "      <td>...</td>\n",
       "    </tr>\n",
       "    <tr>\n",
       "      <th>306475</th>\n",
       "      <td>0c027f5f34dd4b9eba0a25785c611273</td>\n",
       "      <td>offer completed</td>\n",
       "      <td>{'offer_id': '2298d6c36e964ae4a3e7e9706d1fb8c2...</td>\n",
       "      <td>714</td>\n",
       "      <td>{'offer_id': '2298d6c36e964ae4a3e7e9706d1fb8c2...</td>\n",
       "      <td>NaN</td>\n",
       "      <td>None</td>\n",
       "      <td>['offer_id', 'reward']</td>\n",
       "    </tr>\n",
       "    <tr>\n",
       "      <th>306497</th>\n",
       "      <td>a6f84f4e976f44508c358cc9aba6d2b3</td>\n",
       "      <td>offer completed</td>\n",
       "      <td>{'offer_id': '2298d6c36e964ae4a3e7e9706d1fb8c2...</td>\n",
       "      <td>714</td>\n",
       "      <td>{'offer_id': '2298d6c36e964ae4a3e7e9706d1fb8c2...</td>\n",
       "      <td>NaN</td>\n",
       "      <td>None</td>\n",
       "      <td>['offer_id', 'reward']</td>\n",
       "    </tr>\n",
       "    <tr>\n",
       "      <th>306506</th>\n",
       "      <td>b895c57e8cd047a8872ce02aa54759d6</td>\n",
       "      <td>offer completed</td>\n",
       "      <td>{'offer_id': 'fafdcd668e3743c1bb461111dcafc2a4...</td>\n",
       "      <td>714</td>\n",
       "      <td>{'offer_id': 'fafdcd668e3743c1bb461111dcafc2a4...</td>\n",
       "      <td>NaN</td>\n",
       "      <td>None</td>\n",
       "      <td>['offer_id', 'reward']</td>\n",
       "    </tr>\n",
       "    <tr>\n",
       "      <th>306509</th>\n",
       "      <td>8431c16f8e1d440880db371a68f82dd0</td>\n",
       "      <td>offer completed</td>\n",
       "      <td>{'offer_id': 'fafdcd668e3743c1bb461111dcafc2a4...</td>\n",
       "      <td>714</td>\n",
       "      <td>{'offer_id': 'fafdcd668e3743c1bb461111dcafc2a4...</td>\n",
       "      <td>NaN</td>\n",
       "      <td>None</td>\n",
       "      <td>['offer_id', 'reward']</td>\n",
       "    </tr>\n",
       "    <tr>\n",
       "      <th>306527</th>\n",
       "      <td>24f56b5e1849462093931b164eb803b5</td>\n",
       "      <td>offer completed</td>\n",
       "      <td>{'offer_id': 'fafdcd668e3743c1bb461111dcafc2a4...</td>\n",
       "      <td>714</td>\n",
       "      <td>{'offer_id': 'fafdcd668e3743c1bb461111dcafc2a4...</td>\n",
       "      <td>NaN</td>\n",
       "      <td>None</td>\n",
       "      <td>['offer_id', 'reward']</td>\n",
       "    </tr>\n",
       "  </tbody>\n",
       "</table>\n",
       "<p>33579 rows × 8 columns</p>\n",
       "</div>"
      ],
      "text/plain": [
       "                             customer_id            event  \\\n",
       "12658   9fa9ae8f57894cc9a3b8a9bbe0fc1b2f  offer completed   \n",
       "12672   fe97aa22dd3e48c8b143116a8403dd52  offer completed   \n",
       "12679   629fc02d56414d91bca360decdfa9288  offer completed   \n",
       "12692   676506bad68e4161b9bbaffeb039626b  offer completed   \n",
       "12697   8f7dd3b2afe14c078eb4f6e6fe4ba97d  offer completed   \n",
       "...                                  ...              ...   \n",
       "306475  0c027f5f34dd4b9eba0a25785c611273  offer completed   \n",
       "306497  a6f84f4e976f44508c358cc9aba6d2b3  offer completed   \n",
       "306506  b895c57e8cd047a8872ce02aa54759d6  offer completed   \n",
       "306509  8431c16f8e1d440880db371a68f82dd0  offer completed   \n",
       "306527  24f56b5e1849462093931b164eb803b5  offer completed   \n",
       "\n",
       "                                                    value  time  \\\n",
       "12658   {'offer_id': '2906b810c7d4411798c6938adc9daaa5...     0   \n",
       "12672   {'offer_id': 'fafdcd668e3743c1bb461111dcafc2a4...     0   \n",
       "12679   {'offer_id': '9b98b8c7a33c4b65b9aebfe6a799e6d9...     0   \n",
       "12692   {'offer_id': 'ae264e3637204a6fb9bb56bc8210ddfd...     0   \n",
       "12697   {'offer_id': '4d5c57ea9a6940dd891ad53e9dbe8da0...     0   \n",
       "...                                                   ...   ...   \n",
       "306475  {'offer_id': '2298d6c36e964ae4a3e7e9706d1fb8c2...   714   \n",
       "306497  {'offer_id': '2298d6c36e964ae4a3e7e9706d1fb8c2...   714   \n",
       "306506  {'offer_id': 'fafdcd668e3743c1bb461111dcafc2a4...   714   \n",
       "306509  {'offer_id': 'fafdcd668e3743c1bb461111dcafc2a4...   714   \n",
       "306527  {'offer_id': 'fafdcd668e3743c1bb461111dcafc2a4...   714   \n",
       "\n",
       "                                               value_dict  transaction_amount  \\\n",
       "12658   {'offer_id': '2906b810c7d4411798c6938adc9daaa5...                 NaN   \n",
       "12672   {'offer_id': 'fafdcd668e3743c1bb461111dcafc2a4...                 NaN   \n",
       "12679   {'offer_id': '9b98b8c7a33c4b65b9aebfe6a799e6d9...                 NaN   \n",
       "12692   {'offer_id': 'ae264e3637204a6fb9bb56bc8210ddfd...                 NaN   \n",
       "12697   {'offer_id': '4d5c57ea9a6940dd891ad53e9dbe8da0...                 NaN   \n",
       "...                                                   ...                 ...   \n",
       "306475  {'offer_id': '2298d6c36e964ae4a3e7e9706d1fb8c2...                 NaN   \n",
       "306497  {'offer_id': '2298d6c36e964ae4a3e7e9706d1fb8c2...                 NaN   \n",
       "306506  {'offer_id': 'fafdcd668e3743c1bb461111dcafc2a4...                 NaN   \n",
       "306509  {'offer_id': 'fafdcd668e3743c1bb461111dcafc2a4...                 NaN   \n",
       "306527  {'offer_id': 'fafdcd668e3743c1bb461111dcafc2a4...                 NaN   \n",
       "\n",
       "       clean_offer_id         value_structure  \n",
       "12658            None  ['offer_id', 'reward']  \n",
       "12672            None  ['offer_id', 'reward']  \n",
       "12679            None  ['offer_id', 'reward']  \n",
       "12692            None  ['offer_id', 'reward']  \n",
       "12697            None  ['offer_id', 'reward']  \n",
       "...               ...                     ...  \n",
       "306475           None  ['offer_id', 'reward']  \n",
       "306497           None  ['offer_id', 'reward']  \n",
       "306506           None  ['offer_id', 'reward']  \n",
       "306509           None  ['offer_id', 'reward']  \n",
       "306527           None  ['offer_id', 'reward']  \n",
       "\n",
       "[33579 rows x 8 columns]"
      ]
     },
     "execution_count": 22,
     "metadata": {},
     "output_type": "execute_result"
    }
   ],
   "source": [
    "### df[df['event'] == 'offer completed'].loc[df['value_dict'].apply(lambda d: 'reward' in d)]\n"
   ]
  },
  {
   "cell_type": "code",
   "execution_count": 23,
   "id": "08782061",
   "metadata": {},
   "outputs": [
    {
     "data": {
      "text/plain": [
       "12658     {'offer_id': '2906b810c7d4411798c6938adc9daaa5...\n",
       "12672     {'offer_id': 'fafdcd668e3743c1bb461111dcafc2a4...\n",
       "12679     {'offer_id': '9b98b8c7a33c4b65b9aebfe6a799e6d9...\n",
       "12692     {'offer_id': 'ae264e3637204a6fb9bb56bc8210ddfd...\n",
       "12697     {'offer_id': '4d5c57ea9a6940dd891ad53e9dbe8da0...\n",
       "                                ...                        \n",
       "306475    {'offer_id': '2298d6c36e964ae4a3e7e9706d1fb8c2...\n",
       "306497    {'offer_id': '2298d6c36e964ae4a3e7e9706d1fb8c2...\n",
       "306506    {'offer_id': 'fafdcd668e3743c1bb461111dcafc2a4...\n",
       "306509    {'offer_id': 'fafdcd668e3743c1bb461111dcafc2a4...\n",
       "306527    {'offer_id': 'fafdcd668e3743c1bb461111dcafc2a4...\n",
       "Name: value_dict, Length: 33579, dtype: object"
      ]
     },
     "execution_count": 23,
     "metadata": {},
     "output_type": "execute_result"
    }
   ],
   "source": [
    "## I want to see if 'reward' is actually in the value_dict column \n",
    "\n",
    "## df[df['event'] == 'offer completed']['value_dict'].apply(lambda x: x if 'reward' in x else None).dropna()\n"
   ]
  },
  {
   "cell_type": "code",
   "execution_count": 24,
   "id": "17af65fa",
   "metadata": {},
   "outputs": [
    {
     "data": {
      "text/plain": [
       "12658      {'offer_id': '2906b810c7d4411798c6938adc9daaa5', 'reward': 2}\n",
       "12672      {'offer_id': 'fafdcd668e3743c1bb461111dcafc2a4', 'reward': 2}\n",
       "12679      {'offer_id': '9b98b8c7a33c4b65b9aebfe6a799e6d9', 'reward': 5}\n",
       "12692     {'offer_id': 'ae264e3637204a6fb9bb56bc8210ddfd', 'reward': 10}\n",
       "12697     {'offer_id': '4d5c57ea9a6940dd891ad53e9dbe8da0', 'reward': 10}\n",
       "                                       ...                              \n",
       "306475     {'offer_id': '2298d6c36e964ae4a3e7e9706d1fb8c2', 'reward': 3}\n",
       "306497     {'offer_id': '2298d6c36e964ae4a3e7e9706d1fb8c2', 'reward': 3}\n",
       "306506     {'offer_id': 'fafdcd668e3743c1bb461111dcafc2a4', 'reward': 2}\n",
       "306509     {'offer_id': 'fafdcd668e3743c1bb461111dcafc2a4', 'reward': 2}\n",
       "306527     {'offer_id': 'fafdcd668e3743c1bb461111dcafc2a4', 'reward': 2}\n",
       "Name: value_dict, Length: 33579, dtype: object"
      ]
     },
     "execution_count": 24,
     "metadata": {},
     "output_type": "execute_result"
    }
   ],
   "source": [
    "\n",
    "## pd.options.display.max_colwidth = None  # Remove truncation\n",
    "\n",
    "## df[df['event'] == 'offer completed']['value_dict'].apply(lambda x: x if 'reward' in x else None).dropna()\n"
   ]
  },
  {
   "cell_type": "code",
   "execution_count": 8,
   "id": "5a6c1bfd",
   "metadata": {},
   "outputs": [],
   "source": [
    "### \"offer id\" and \"offer_id\" appear in different ways\n",
    "    \n",
    "# Standardize key names inside value_dict\n",
    "def standardize_keys(d):\n",
    "    if isinstance(d, dict):\n",
    "        return {k.replace(\" \", \"_\"): v for k, v in d.items()}  # Replace spaces with underscores\n",
    "    return d  # Return as is if not a dict\n",
    "\n",
    "# Apply the function to the value_dict column\n",
    "df['value_dict'] = df['value_dict'].apply(standardize_keys)"
   ]
  },
  {
   "cell_type": "code",
   "execution_count": 26,
   "id": "7e62f06b",
   "metadata": {},
   "outputs": [
    {
     "data": {
      "text/html": [
       "<div>\n",
       "<style scoped>\n",
       "    .dataframe tbody tr th:only-of-type {\n",
       "        vertical-align: middle;\n",
       "    }\n",
       "\n",
       "    .dataframe tbody tr th {\n",
       "        vertical-align: top;\n",
       "    }\n",
       "\n",
       "    .dataframe thead th {\n",
       "        text-align: right;\n",
       "    }\n",
       "</style>\n",
       "<table border=\"1\" class=\"dataframe\">\n",
       "  <thead>\n",
       "    <tr style=\"text-align: right;\">\n",
       "      <th></th>\n",
       "      <th>event</th>\n",
       "      <th>value_dict</th>\n",
       "    </tr>\n",
       "  </thead>\n",
       "  <tbody>\n",
       "    <tr>\n",
       "      <th>0</th>\n",
       "      <td>offer received</td>\n",
       "      <td>{'offer_id': '9b98b8c7a33c4b65b9aebfe6a799e6d9'}</td>\n",
       "    </tr>\n",
       "    <tr>\n",
       "      <th>1</th>\n",
       "      <td>offer received</td>\n",
       "      <td>{'offer_id': '0b1e1539f2cc45b7b9fa7c272da2e1d7'}</td>\n",
       "    </tr>\n",
       "    <tr>\n",
       "      <th>2</th>\n",
       "      <td>offer received</td>\n",
       "      <td>{'offer_id': '2906b810c7d4411798c6938adc9daaa5'}</td>\n",
       "    </tr>\n",
       "    <tr>\n",
       "      <th>3</th>\n",
       "      <td>offer received</td>\n",
       "      <td>{'offer_id': 'fafdcd668e3743c1bb461111dcafc2a4'}</td>\n",
       "    </tr>\n",
       "    <tr>\n",
       "      <th>4</th>\n",
       "      <td>offer received</td>\n",
       "      <td>{'offer_id': '4d5c57ea9a6940dd891ad53e9dbe8da0'}</td>\n",
       "    </tr>\n",
       "    <tr>\n",
       "      <th>5</th>\n",
       "      <td>offer received</td>\n",
       "      <td>{'offer_id': 'f19421c1d4aa40978ebb69ca19b0e20d'}</td>\n",
       "    </tr>\n",
       "    <tr>\n",
       "      <th>6</th>\n",
       "      <td>offer received</td>\n",
       "      <td>{'offer_id': '2298d6c36e964ae4a3e7e9706d1fb8c2'}</td>\n",
       "    </tr>\n",
       "    <tr>\n",
       "      <th>7</th>\n",
       "      <td>offer received</td>\n",
       "      <td>{'offer_id': '3f207df678b143eea3cee63160fa8bed'}</td>\n",
       "    </tr>\n",
       "    <tr>\n",
       "      <th>8</th>\n",
       "      <td>offer received</td>\n",
       "      <td>{'offer_id': '0b1e1539f2cc45b7b9fa7c272da2e1d7'}</td>\n",
       "    </tr>\n",
       "    <tr>\n",
       "      <th>9</th>\n",
       "      <td>offer received</td>\n",
       "      <td>{'offer_id': '0b1e1539f2cc45b7b9fa7c272da2e1d7'}</td>\n",
       "    </tr>\n",
       "  </tbody>\n",
       "</table>\n",
       "</div>"
      ],
      "text/plain": [
       "            event                                        value_dict\n",
       "0  offer received  {'offer_id': '9b98b8c7a33c4b65b9aebfe6a799e6d9'}\n",
       "1  offer received  {'offer_id': '0b1e1539f2cc45b7b9fa7c272da2e1d7'}\n",
       "2  offer received  {'offer_id': '2906b810c7d4411798c6938adc9daaa5'}\n",
       "3  offer received  {'offer_id': 'fafdcd668e3743c1bb461111dcafc2a4'}\n",
       "4  offer received  {'offer_id': '4d5c57ea9a6940dd891ad53e9dbe8da0'}\n",
       "5  offer received  {'offer_id': 'f19421c1d4aa40978ebb69ca19b0e20d'}\n",
       "6  offer received  {'offer_id': '2298d6c36e964ae4a3e7e9706d1fb8c2'}\n",
       "7  offer received  {'offer_id': '3f207df678b143eea3cee63160fa8bed'}\n",
       "8  offer received  {'offer_id': '0b1e1539f2cc45b7b9fa7c272da2e1d7'}\n",
       "9  offer received  {'offer_id': '0b1e1539f2cc45b7b9fa7c272da2e1d7'}"
      ]
     },
     "execution_count": 26,
     "metadata": {},
     "output_type": "execute_result"
    }
   ],
   "source": [
    "# df[['event', 'value_dict']].head(10)  # Show first 10 rows again\n"
   ]
  },
  {
   "cell_type": "code",
   "execution_count": 9,
   "id": "4d539e6b",
   "metadata": {},
   "outputs": [
    {
     "data": {
      "text/html": [
       "<div>\n",
       "<style scoped>\n",
       "    .dataframe tbody tr th:only-of-type {\n",
       "        vertical-align: middle;\n",
       "    }\n",
       "\n",
       "    .dataframe tbody tr th {\n",
       "        vertical-align: top;\n",
       "    }\n",
       "\n",
       "    .dataframe thead th {\n",
       "        text-align: right;\n",
       "    }\n",
       "</style>\n",
       "<table border=\"1\" class=\"dataframe\">\n",
       "  <thead>\n",
       "    <tr style=\"text-align: right;\">\n",
       "      <th></th>\n",
       "      <th>customer_id</th>\n",
       "      <th>event</th>\n",
       "      <th>value</th>\n",
       "      <th>time</th>\n",
       "      <th>value_dict</th>\n",
       "    </tr>\n",
       "  </thead>\n",
       "  <tbody>\n",
       "  </tbody>\n",
       "</table>\n",
       "</div>"
      ],
      "text/plain": [
       "Empty DataFrame\n",
       "Columns: [customer_id, event, value, time, value_dict]\n",
       "Index: []"
      ]
     },
     "execution_count": 9,
     "metadata": {},
     "output_type": "execute_result"
    }
   ],
   "source": [
    "df[df['value_dict'].apply(lambda d: isinstance(d, dict) and 'offer id' in d)]\n",
    "\n",
    "## since it returns an empty df, it means \"offer id\" was successfully converted to \"offer_id\".\n"
   ]
  },
  {
   "cell_type": "code",
   "execution_count": 10,
   "id": "aa4febeb",
   "metadata": {},
   "outputs": [],
   "source": [
    "### Now i will do again the extraction of ofeer_id \n",
    "\n",
    "\n",
    "# I define which events should have an offer_id (amount not)\n",
    "offer_events = ['offer received', 'offer viewed', 'offer completed']\n",
    "\n",
    "# Time to extract the offer_id \n",
    "df['clean_offer_id'] = df.apply(lambda x: x['value_dict'].get('offer_id') if x['event'] in offer_events else None, axis=1)\n",
    "\n",
    "### Transactions do not have an offer id , so i will keep them as NONE "
   ]
  },
  {
   "cell_type": "code",
   "execution_count": 11,
   "id": "580ded5a",
   "metadata": {},
   "outputs": [
    {
     "data": {
      "text/html": [
       "<div>\n",
       "<style scoped>\n",
       "    .dataframe tbody tr th:only-of-type {\n",
       "        vertical-align: middle;\n",
       "    }\n",
       "\n",
       "    .dataframe tbody tr th {\n",
       "        vertical-align: top;\n",
       "    }\n",
       "\n",
       "    .dataframe thead th {\n",
       "        text-align: right;\n",
       "    }\n",
       "</style>\n",
       "<table border=\"1\" class=\"dataframe\">\n",
       "  <thead>\n",
       "    <tr style=\"text-align: right;\">\n",
       "      <th></th>\n",
       "      <th>event</th>\n",
       "      <th>value_dict</th>\n",
       "      <th>clean_offer_id</th>\n",
       "    </tr>\n",
       "  </thead>\n",
       "  <tbody>\n",
       "    <tr>\n",
       "      <th>12658</th>\n",
       "      <td>offer completed</td>\n",
       "      <td>{'offer_id': '2906b810c7d4411798c6938adc9daaa5...</td>\n",
       "      <td>2906b810c7d4411798c6938adc9daaa5</td>\n",
       "    </tr>\n",
       "    <tr>\n",
       "      <th>12672</th>\n",
       "      <td>offer completed</td>\n",
       "      <td>{'offer_id': 'fafdcd668e3743c1bb461111dcafc2a4...</td>\n",
       "      <td>fafdcd668e3743c1bb461111dcafc2a4</td>\n",
       "    </tr>\n",
       "    <tr>\n",
       "      <th>12679</th>\n",
       "      <td>offer completed</td>\n",
       "      <td>{'offer_id': '9b98b8c7a33c4b65b9aebfe6a799e6d9...</td>\n",
       "      <td>9b98b8c7a33c4b65b9aebfe6a799e6d9</td>\n",
       "    </tr>\n",
       "    <tr>\n",
       "      <th>12692</th>\n",
       "      <td>offer completed</td>\n",
       "      <td>{'offer_id': 'ae264e3637204a6fb9bb56bc8210ddfd...</td>\n",
       "      <td>ae264e3637204a6fb9bb56bc8210ddfd</td>\n",
       "    </tr>\n",
       "    <tr>\n",
       "      <th>12697</th>\n",
       "      <td>offer completed</td>\n",
       "      <td>{'offer_id': '4d5c57ea9a6940dd891ad53e9dbe8da0...</td>\n",
       "      <td>4d5c57ea9a6940dd891ad53e9dbe8da0</td>\n",
       "    </tr>\n",
       "    <tr>\n",
       "      <th>12717</th>\n",
       "      <td>offer completed</td>\n",
       "      <td>{'offer_id': '4d5c57ea9a6940dd891ad53e9dbe8da0...</td>\n",
       "      <td>4d5c57ea9a6940dd891ad53e9dbe8da0</td>\n",
       "    </tr>\n",
       "    <tr>\n",
       "      <th>12721</th>\n",
       "      <td>offer completed</td>\n",
       "      <td>{'offer_id': '2298d6c36e964ae4a3e7e9706d1fb8c2...</td>\n",
       "      <td>2298d6c36e964ae4a3e7e9706d1fb8c2</td>\n",
       "    </tr>\n",
       "    <tr>\n",
       "      <th>12744</th>\n",
       "      <td>offer completed</td>\n",
       "      <td>{'offer_id': 'f19421c1d4aa40978ebb69ca19b0e20d...</td>\n",
       "      <td>f19421c1d4aa40978ebb69ca19b0e20d</td>\n",
       "    </tr>\n",
       "    <tr>\n",
       "      <th>12764</th>\n",
       "      <td>offer completed</td>\n",
       "      <td>{'offer_id': '2906b810c7d4411798c6938adc9daaa5...</td>\n",
       "      <td>2906b810c7d4411798c6938adc9daaa5</td>\n",
       "    </tr>\n",
       "    <tr>\n",
       "      <th>12767</th>\n",
       "      <td>offer completed</td>\n",
       "      <td>{'offer_id': '4d5c57ea9a6940dd891ad53e9dbe8da0...</td>\n",
       "      <td>4d5c57ea9a6940dd891ad53e9dbe8da0</td>\n",
       "    </tr>\n",
       "  </tbody>\n",
       "</table>\n",
       "</div>"
      ],
      "text/plain": [
       "                 event                                         value_dict  \\\n",
       "12658  offer completed  {'offer_id': '2906b810c7d4411798c6938adc9daaa5...   \n",
       "12672  offer completed  {'offer_id': 'fafdcd668e3743c1bb461111dcafc2a4...   \n",
       "12679  offer completed  {'offer_id': '9b98b8c7a33c4b65b9aebfe6a799e6d9...   \n",
       "12692  offer completed  {'offer_id': 'ae264e3637204a6fb9bb56bc8210ddfd...   \n",
       "12697  offer completed  {'offer_id': '4d5c57ea9a6940dd891ad53e9dbe8da0...   \n",
       "12717  offer completed  {'offer_id': '4d5c57ea9a6940dd891ad53e9dbe8da0...   \n",
       "12721  offer completed  {'offer_id': '2298d6c36e964ae4a3e7e9706d1fb8c2...   \n",
       "12744  offer completed  {'offer_id': 'f19421c1d4aa40978ebb69ca19b0e20d...   \n",
       "12764  offer completed  {'offer_id': '2906b810c7d4411798c6938adc9daaa5...   \n",
       "12767  offer completed  {'offer_id': '4d5c57ea9a6940dd891ad53e9dbe8da0...   \n",
       "\n",
       "                         clean_offer_id  \n",
       "12658  2906b810c7d4411798c6938adc9daaa5  \n",
       "12672  fafdcd668e3743c1bb461111dcafc2a4  \n",
       "12679  9b98b8c7a33c4b65b9aebfe6a799e6d9  \n",
       "12692  ae264e3637204a6fb9bb56bc8210ddfd  \n",
       "12697  4d5c57ea9a6940dd891ad53e9dbe8da0  \n",
       "12717  4d5c57ea9a6940dd891ad53e9dbe8da0  \n",
       "12721  2298d6c36e964ae4a3e7e9706d1fb8c2  \n",
       "12744  f19421c1d4aa40978ebb69ca19b0e20d  \n",
       "12764  2906b810c7d4411798c6938adc9daaa5  \n",
       "12767  4d5c57ea9a6940dd891ad53e9dbe8da0  "
      ]
     },
     "execution_count": 11,
     "metadata": {},
     "output_type": "execute_result"
    }
   ],
   "source": [
    "df[df['event'] == 'offer completed'][['event', 'value_dict', 'clean_offer_id']].head(10)\n"
   ]
  },
  {
   "cell_type": "code",
   "execution_count": null,
   "id": "9035a630",
   "metadata": {},
   "outputs": [],
   "source": [
    "## I want to see if there are  Rows with \"No Offer\" in clean_offer_id"
   ]
  },
  {
   "cell_type": "code",
   "execution_count": 12,
   "id": "bdd8b4df",
   "metadata": {},
   "outputs": [
    {
     "data": {
      "text/html": [
       "<div>\n",
       "<style scoped>\n",
       "    .dataframe tbody tr th:only-of-type {\n",
       "        vertical-align: middle;\n",
       "    }\n",
       "\n",
       "    .dataframe tbody tr th {\n",
       "        vertical-align: top;\n",
       "    }\n",
       "\n",
       "    .dataframe thead th {\n",
       "        text-align: right;\n",
       "    }\n",
       "</style>\n",
       "<table border=\"1\" class=\"dataframe\">\n",
       "  <thead>\n",
       "    <tr style=\"text-align: right;\">\n",
       "      <th></th>\n",
       "      <th>event</th>\n",
       "      <th>value_dict</th>\n",
       "      <th>clean_offer_id</th>\n",
       "    </tr>\n",
       "  </thead>\n",
       "  <tbody>\n",
       "  </tbody>\n",
       "</table>\n",
       "</div>"
      ],
      "text/plain": [
       "Empty DataFrame\n",
       "Columns: [event, value_dict, clean_offer_id]\n",
       "Index: []"
      ]
     },
     "execution_count": 12,
     "metadata": {},
     "output_type": "execute_result"
    }
   ],
   "source": [
    "df[df['clean_offer_id'] == 'No Offer'][['event', 'value_dict', 'clean_offer_id']].head(20)\n",
    "\n",
    "### EMPTY!!!!!!Party Time!!!!!!!!!!!!!!!!!\n"
   ]
  },
  {
   "cell_type": "code",
   "execution_count": 13,
   "id": "0495ebb6",
   "metadata": {},
   "outputs": [
    {
     "name": "stdout",
     "output_type": "stream",
     "text": [
      "Offers Sent: 10, Offers Completed: 8\n"
     ]
    }
   ],
   "source": [
    "# Counting unique offer_ids in \"offer received\"\n",
    "offers_sent = df[df['event'] == 'offer received']['clean_offer_id'].nunique()\n",
    "\n",
    "# unique offer_ids in \"offer completed\"\n",
    "offers_completed = df[df['event'] == 'offer completed']['clean_offer_id'].nunique()\n",
    "\n",
    "print(f\"Offers Sent: {offers_sent}, Offers Completed: {offers_completed}\")\n"
   ]
  },
  {
   "cell_type": "code",
   "execution_count": 14,
   "id": "7be41cad",
   "metadata": {},
   "outputs": [
    {
     "name": "stdout",
     "output_type": "stream",
     "text": [
      "Total Offers Sent (Received): 76277\n",
      "Total Offers Completed: 33579\n"
     ]
    }
   ],
   "source": [
    "# Total number of offer received events. I am measuring the number of sent offers \n",
    "# based on the 'offers received' events, as the dataset does not provide a direct record of offers sent.\n",
    "\n",
    "total_received = df[df['event'] == 'offer received'].shape[0]\n",
    "\n",
    "# Total number of offer completed events\n",
    "total_completed = df[df['event'] == 'offer completed'].shape[0]\n",
    "\n",
    "print(f\"Total Offers Sent (Received): {total_received}\")\n",
    "print(f\"Total Offers Completed: {total_completed}\")\n",
    "\n",
    "\n",
    "### Cool! the  company sent 76,277 offers, and 33,579 of them were completed.\n"
   ]
  },
  {
   "cell_type": "code",
   "execution_count": 15,
   "id": "81534330",
   "metadata": {},
   "outputs": [
    {
     "name": "stdout",
     "output_type": "stream",
     "text": [
      "Offer Completion Rate: 44.02%\n"
     ]
    }
   ],
   "source": [
    "## lets see the completion rate and success !!!!!!!!\n",
    "\n",
    "conversion_rate = (total_completed / total_received) * 100\n",
    "print(f\"Offer Completion Rate: {conversion_rate:.2f}%\")\n"
   ]
  },
  {
   "cell_type": "code",
   "execution_count": 16,
   "id": "af829e5c",
   "metadata": {},
   "outputs": [],
   "source": [
    "# I need also to extract the 'reward' for offer completed events, otherwise set to NaN\n",
    "df['reward'] = df.apply(lambda x: x['value_dict'].get('reward', None) if x['event'] == 'offer completed' else None, axis=1)\n"
   ]
  },
  {
   "cell_type": "code",
   "execution_count": 17,
   "id": "19c0e419",
   "metadata": {},
   "outputs": [
    {
     "name": "stdout",
     "output_type": "stream",
     "text": [
      "                        customer_id           event  \\\n",
      "0  78afa995795e4d85b5d9ceeca43f5fef  offer received   \n",
      "1  a03223e636434f42ac4c3df47e8bac43  offer received   \n",
      "2  e2127556f4f64592b11af22de27a7932  offer received   \n",
      "3  8ec6ce2a7e7949b1bf142def7d0e0586  offer received   \n",
      "4  68617ca6246f4fbc85e91a2a49552598  offer received   \n",
      "\n",
      "                                              value  time  \\\n",
      "0  {'offer id': '9b98b8c7a33c4b65b9aebfe6a799e6d9'}     0   \n",
      "1  {'offer id': '0b1e1539f2cc45b7b9fa7c272da2e1d7'}     0   \n",
      "2  {'offer id': '2906b810c7d4411798c6938adc9daaa5'}     0   \n",
      "3  {'offer id': 'fafdcd668e3743c1bb461111dcafc2a4'}     0   \n",
      "4  {'offer id': '4d5c57ea9a6940dd891ad53e9dbe8da0'}     0   \n",
      "\n",
      "                                         value_dict  \\\n",
      "0  {'offer_id': '9b98b8c7a33c4b65b9aebfe6a799e6d9'}   \n",
      "1  {'offer_id': '0b1e1539f2cc45b7b9fa7c272da2e1d7'}   \n",
      "2  {'offer_id': '2906b810c7d4411798c6938adc9daaa5'}   \n",
      "3  {'offer_id': 'fafdcd668e3743c1bb461111dcafc2a4'}   \n",
      "4  {'offer_id': '4d5c57ea9a6940dd891ad53e9dbe8da0'}   \n",
      "\n",
      "                     clean_offer_id  reward  \n",
      "0  9b98b8c7a33c4b65b9aebfe6a799e6d9     NaN  \n",
      "1  0b1e1539f2cc45b7b9fa7c272da2e1d7     NaN  \n",
      "2  2906b810c7d4411798c6938adc9daaa5     NaN  \n",
      "3  fafdcd668e3743c1bb461111dcafc2a4     NaN  \n",
      "4  4d5c57ea9a6940dd891ad53e9dbe8da0     NaN  \n"
     ]
    }
   ],
   "source": [
    "print(df.head())  ## to check the result!\n"
   ]
  },
  {
   "cell_type": "code",
   "execution_count": null,
   "id": "33ccca74",
   "metadata": {},
   "outputs": [],
   "source": []
  },
  {
   "cell_type": "code",
   "execution_count": 24,
   "id": "1b664bf7",
   "metadata": {},
   "outputs": [],
   "source": [
    "# Save cleaned dataset\n",
    "\n",
    "df.to_csv(r\"C:\\Users\\Mar\\Documents\\Data Analytics\\AProjects 2024\\Coffe Rewards\\Cafe+Rewards+Offers\\cleaned_events.csv\", index=False)\n"
   ]
  },
  {
   "cell_type": "code",
   "execution_count": 23,
   "id": "28fb73f8",
   "metadata": {},
   "outputs": [
    {
     "name": "stdout",
     "output_type": "stream",
     "text": [
      "Index(['customer_id', 'event', 'value', 'time', 'value_dict', 'clean_offer_id',\n",
      "       'reward', 'transaction_amount'],\n",
      "      dtype='object')\n"
     ]
    }
   ],
   "source": [
    "print(df.columns)\n"
   ]
  },
  {
   "cell_type": "code",
   "execution_count": null,
   "id": "f610fa19",
   "metadata": {},
   "outputs": [],
   "source": []
  }
 ],
 "metadata": {
  "kernelspec": {
   "display_name": "Python 3 (ipykernel)",
   "language": "python",
   "name": "python3"
  },
  "language_info": {
   "codemirror_mode": {
    "name": "ipython",
    "version": 3
   },
   "file_extension": ".py",
   "mimetype": "text/x-python",
   "name": "python",
   "nbconvert_exporter": "python",
   "pygments_lexer": "ipython3",
   "version": "3.11.5"
  }
 },
 "nbformat": 4,
 "nbformat_minor": 5
}
