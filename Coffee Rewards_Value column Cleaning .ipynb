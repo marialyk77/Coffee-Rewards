{
 "cells": [
  {
   "cell_type": "code",
   "execution_count": 3,
   "id": "81f1bcac",
   "metadata": {},
   "outputs": [],
   "source": [
    "import pandas as pd\n",
    "import ast  # To safely convert string to dictionary\n",
    "\n",
    "\n",
    "df = pd.read_csv(r\"C:\\Users\\Mar\\Documents\\Data Analytics\\AProjects 2024\\Coffe Rewards\\Cafe+Rewards+Offers\\events.csv\")\n"
   ]
  },
  {
   "cell_type": "code",
   "execution_count": 4,
   "id": "6e0333b6",
   "metadata": {},
   "outputs": [
    {
     "data": {
      "text/html": [
       "<div>\n",
       "<style scoped>\n",
       "    .dataframe tbody tr th:only-of-type {\n",
       "        vertical-align: middle;\n",
       "    }\n",
       "\n",
       "    .dataframe tbody tr th {\n",
       "        vertical-align: top;\n",
       "    }\n",
       "\n",
       "    .dataframe thead th {\n",
       "        text-align: right;\n",
       "    }\n",
       "</style>\n",
       "<table border=\"1\" class=\"dataframe\">\n",
       "  <thead>\n",
       "    <tr style=\"text-align: right;\">\n",
       "      <th></th>\n",
       "      <th>customer_id</th>\n",
       "      <th>event</th>\n",
       "      <th>value</th>\n",
       "      <th>time</th>\n",
       "    </tr>\n",
       "  </thead>\n",
       "  <tbody>\n",
       "    <tr>\n",
       "      <th>0</th>\n",
       "      <td>78afa995795e4d85b5d9ceeca43f5fef</td>\n",
       "      <td>offer received</td>\n",
       "      <td>{'offer id': '9b98b8c7a33c4b65b9aebfe6a799e6d9'}</td>\n",
       "      <td>0</td>\n",
       "    </tr>\n",
       "    <tr>\n",
       "      <th>1</th>\n",
       "      <td>a03223e636434f42ac4c3df47e8bac43</td>\n",
       "      <td>offer received</td>\n",
       "      <td>{'offer id': '0b1e1539f2cc45b7b9fa7c272da2e1d7'}</td>\n",
       "      <td>0</td>\n",
       "    </tr>\n",
       "    <tr>\n",
       "      <th>2</th>\n",
       "      <td>e2127556f4f64592b11af22de27a7932</td>\n",
       "      <td>offer received</td>\n",
       "      <td>{'offer id': '2906b810c7d4411798c6938adc9daaa5'}</td>\n",
       "      <td>0</td>\n",
       "    </tr>\n",
       "    <tr>\n",
       "      <th>3</th>\n",
       "      <td>8ec6ce2a7e7949b1bf142def7d0e0586</td>\n",
       "      <td>offer received</td>\n",
       "      <td>{'offer id': 'fafdcd668e3743c1bb461111dcafc2a4'}</td>\n",
       "      <td>0</td>\n",
       "    </tr>\n",
       "    <tr>\n",
       "      <th>4</th>\n",
       "      <td>68617ca6246f4fbc85e91a2a49552598</td>\n",
       "      <td>offer received</td>\n",
       "      <td>{'offer id': '4d5c57ea9a6940dd891ad53e9dbe8da0'}</td>\n",
       "      <td>0</td>\n",
       "    </tr>\n",
       "    <tr>\n",
       "      <th>...</th>\n",
       "      <td>...</td>\n",
       "      <td>...</td>\n",
       "      <td>...</td>\n",
       "      <td>...</td>\n",
       "    </tr>\n",
       "    <tr>\n",
       "      <th>306529</th>\n",
       "      <td>b3a1272bc9904337b331bf348c3e8c17</td>\n",
       "      <td>transaction</td>\n",
       "      <td>{'amount': 1.5899999999999999}</td>\n",
       "      <td>714</td>\n",
       "    </tr>\n",
       "    <tr>\n",
       "      <th>306530</th>\n",
       "      <td>68213b08d99a4ae1b0dcb72aebd9aa35</td>\n",
       "      <td>transaction</td>\n",
       "      <td>{'amount': 9.53}</td>\n",
       "      <td>714</td>\n",
       "    </tr>\n",
       "    <tr>\n",
       "      <th>306531</th>\n",
       "      <td>a00058cf10334a308c68e7631c529907</td>\n",
       "      <td>transaction</td>\n",
       "      <td>{'amount': 3.61}</td>\n",
       "      <td>714</td>\n",
       "    </tr>\n",
       "    <tr>\n",
       "      <th>306532</th>\n",
       "      <td>76ddbd6576844afe811f1a3c0fbb5bec</td>\n",
       "      <td>transaction</td>\n",
       "      <td>{'amount': 3.5300000000000002}</td>\n",
       "      <td>714</td>\n",
       "    </tr>\n",
       "    <tr>\n",
       "      <th>306533</th>\n",
       "      <td>c02b10e8752c4d8e9b73f918558531f7</td>\n",
       "      <td>transaction</td>\n",
       "      <td>{'amount': 4.05}</td>\n",
       "      <td>714</td>\n",
       "    </tr>\n",
       "  </tbody>\n",
       "</table>\n",
       "<p>306534 rows × 4 columns</p>\n",
       "</div>"
      ],
      "text/plain": [
       "                             customer_id           event  \\\n",
       "0       78afa995795e4d85b5d9ceeca43f5fef  offer received   \n",
       "1       a03223e636434f42ac4c3df47e8bac43  offer received   \n",
       "2       e2127556f4f64592b11af22de27a7932  offer received   \n",
       "3       8ec6ce2a7e7949b1bf142def7d0e0586  offer received   \n",
       "4       68617ca6246f4fbc85e91a2a49552598  offer received   \n",
       "...                                  ...             ...   \n",
       "306529  b3a1272bc9904337b331bf348c3e8c17     transaction   \n",
       "306530  68213b08d99a4ae1b0dcb72aebd9aa35     transaction   \n",
       "306531  a00058cf10334a308c68e7631c529907     transaction   \n",
       "306532  76ddbd6576844afe811f1a3c0fbb5bec     transaction   \n",
       "306533  c02b10e8752c4d8e9b73f918558531f7     transaction   \n",
       "\n",
       "                                                   value  time  \n",
       "0       {'offer id': '9b98b8c7a33c4b65b9aebfe6a799e6d9'}     0  \n",
       "1       {'offer id': '0b1e1539f2cc45b7b9fa7c272da2e1d7'}     0  \n",
       "2       {'offer id': '2906b810c7d4411798c6938adc9daaa5'}     0  \n",
       "3       {'offer id': 'fafdcd668e3743c1bb461111dcafc2a4'}     0  \n",
       "4       {'offer id': '4d5c57ea9a6940dd891ad53e9dbe8da0'}     0  \n",
       "...                                                  ...   ...  \n",
       "306529                    {'amount': 1.5899999999999999}   714  \n",
       "306530                                  {'amount': 9.53}   714  \n",
       "306531                                  {'amount': 3.61}   714  \n",
       "306532                    {'amount': 3.5300000000000002}   714  \n",
       "306533                                  {'amount': 4.05}   714  \n",
       "\n",
       "[306534 rows x 4 columns]"
      ]
     },
     "execution_count": 4,
     "metadata": {},
     "output_type": "execute_result"
    }
   ],
   "source": [
    "df"
   ]
  },
  {
   "cell_type": "code",
   "execution_count": 7,
   "id": "3a1bd79b",
   "metadata": {},
   "outputs": [],
   "source": [
    "# Con. JSON-like string to dictionary\n",
    "df['value_dict'] = df['value'].apply(lambda x: ast.literal_eval(x) if isinstance(x, str) else {})\n"
   ]
  },
  {
   "cell_type": "code",
   "execution_count": 8,
   "id": "49f4ee75",
   "metadata": {},
   "outputs": [],
   "source": [
    "# Ext 'transaction_amount' for transactions\n",
    "df['transaction_amount'] = df.apply(lambda x: x['value_dict'].get('amount', None) if x['event'] == 'transaction' else None, axis=1)"
   ]
  },
  {
   "cell_type": "code",
   "execution_count": 9,
   "id": "5b1737b9",
   "metadata": {},
   "outputs": [
    {
     "data": {
      "text/plain": [
       "0          NaN\n",
       "1          NaN\n",
       "2          NaN\n",
       "3          NaN\n",
       "4          NaN\n",
       "          ... \n",
       "306529    1.59\n",
       "306530    9.53\n",
       "306531    3.61\n",
       "306532    3.53\n",
       "306533    4.05\n",
       "Name: transaction_amount, Length: 306534, dtype: float64"
      ]
     },
     "execution_count": 9,
     "metadata": {},
     "output_type": "execute_result"
    }
   ],
   "source": [
    "df['transaction_amount']"
   ]
  },
  {
   "cell_type": "code",
   "execution_count": 10,
   "id": "8c61ad10",
   "metadata": {},
   "outputs": [],
   "source": [
    "# Ext 'offer_id' for offer-related events\n",
    "\n",
    "offer_events = ['offer received', 'offer viewed', 'offer completed']\n",
    "df['clean_offer_id'] = df.apply(lambda x: x['value_dict'].get('offer id', None) if x['event'] in offer_events else None, axis=1)"
   ]
  },
  {
   "cell_type": "code",
   "execution_count": null,
   "id": "d8ad0394",
   "metadata": {},
   "outputs": [],
   "source": []
  },
  {
   "cell_type": "code",
   "execution_count": null,
   "id": "8a9defa3",
   "metadata": {},
   "outputs": [],
   "source": []
  },
  {
   "cell_type": "code",
   "execution_count": null,
   "id": "89a8dcf1",
   "metadata": {},
   "outputs": [],
   "source": []
  },
  {
   "cell_type": "code",
   "execution_count": 23,
   "id": "f75fda49",
   "metadata": {},
   "outputs": [],
   "source": [
    "# Save cleaned dataset\n",
    "\n",
    "df.to_csv(r\"C:\\Users\\Mar\\Documents\\Data Analytics\\AProjects 2024\\Coffe Rewards\\Cafe+Rewards+Offers\\cleaned_events.csv\", index=False)\n"
   ]
  },
  {
   "cell_type": "code",
   "execution_count": 17,
   "id": "674374ac",
   "metadata": {},
   "outputs": [
    {
     "name": "stdout",
     "output_type": "stream",
     "text": [
      "                        customer_id           event  \\\n",
      "0  78afa995795e4d85b5d9ceeca43f5fef  offer received   \n",
      "1  a03223e636434f42ac4c3df47e8bac43  offer received   \n",
      "2  e2127556f4f64592b11af22de27a7932  offer received   \n",
      "3  8ec6ce2a7e7949b1bf142def7d0e0586  offer received   \n",
      "4  68617ca6246f4fbc85e91a2a49552598  offer received   \n",
      "\n",
      "                                              value  time  \\\n",
      "0  {'offer id': '9b98b8c7a33c4b65b9aebfe6a799e6d9'}     0   \n",
      "1  {'offer id': '0b1e1539f2cc45b7b9fa7c272da2e1d7'}     0   \n",
      "2  {'offer id': '2906b810c7d4411798c6938adc9daaa5'}     0   \n",
      "3  {'offer id': 'fafdcd668e3743c1bb461111dcafc2a4'}     0   \n",
      "4  {'offer id': '4d5c57ea9a6940dd891ad53e9dbe8da0'}     0   \n",
      "\n",
      "                                         value_dict  transaction_amount  \\\n",
      "0  {'offer id': '9b98b8c7a33c4b65b9aebfe6a799e6d9'}                 NaN   \n",
      "1  {'offer id': '0b1e1539f2cc45b7b9fa7c272da2e1d7'}                 NaN   \n",
      "2  {'offer id': '2906b810c7d4411798c6938adc9daaa5'}                 NaN   \n",
      "3  {'offer id': 'fafdcd668e3743c1bb461111dcafc2a4'}                 NaN   \n",
      "4  {'offer id': '4d5c57ea9a6940dd891ad53e9dbe8da0'}                 NaN   \n",
      "\n",
      "                     clean_offer_id  reward  \n",
      "0  9b98b8c7a33c4b65b9aebfe6a799e6d9     NaN  \n",
      "1  0b1e1539f2cc45b7b9fa7c272da2e1d7     NaN  \n",
      "2  2906b810c7d4411798c6938adc9daaa5     NaN  \n",
      "3  fafdcd668e3743c1bb461111dcafc2a4     NaN  \n",
      "4  4d5c57ea9a6940dd891ad53e9dbe8da0     NaN  \n"
     ]
    }
   ],
   "source": [
    "print(df.head())"
   ]
  },
  {
   "cell_type": "code",
   "execution_count": 22,
   "id": "26b6837d",
   "metadata": {},
   "outputs": [],
   "source": [
    "df.drop(columns=['value_dict'], inplace=True)\n"
   ]
  },
  {
   "cell_type": "code",
   "execution_count": 21,
   "id": "f44c1514",
   "metadata": {},
   "outputs": [
    {
     "name": "stdout",
     "output_type": "stream",
     "text": [
      "Index(['customer_id', 'event', 'value', 'time', 'value_dict',\n",
      "       'transaction_amount', 'clean_offer_id', 'reward'],\n",
      "      dtype='object')\n"
     ]
    }
   ],
   "source": [
    "print(df.columns)\n"
   ]
  }
 ],
 "metadata": {
  "kernelspec": {
   "display_name": "Python 3 (ipykernel)",
   "language": "python",
   "name": "python3"
  },
  "language_info": {
   "codemirror_mode": {
    "name": "ipython",
    "version": 3
   },
   "file_extension": ".py",
   "mimetype": "text/x-python",
   "name": "python",
   "nbconvert_exporter": "python",
   "pygments_lexer": "ipython3",
   "version": "3.11.5"
  }
 },
 "nbformat": 4,
 "nbformat_minor": 5
}
